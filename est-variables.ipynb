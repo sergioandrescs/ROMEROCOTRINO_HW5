{
 "metadata": {
  "name": "",
  "signature": "sha256:7e170d699c289a24356f2399e27646e23c678ad3dd2e47724bda442fd2aa26c4"
 },
 "nbformat": 3,
 "nbformat_minor": 0,
 "worksheets": [
  {
   "cells": [
    {
     "cell_type": "heading",
     "level": 1,
     "metadata": {},
     "source": [
      "hw_5: Punto 2. Estrellas Variables RR-Lyrae"
     ]
    },
    {
     "cell_type": "code",
     "collapsed": false,
     "input": [
      "%pylab inline\n",
      "import pandas as pd\n",
      "import scipy as sc\n",
      "import scipy.interpolate\n",
      "from scipy.fftpack import fft, fftfreq"
     ],
     "language": "python",
     "metadata": {},
     "outputs": [
      {
       "output_type": "stream",
       "stream": "stdout",
       "text": [
        "Populating the interactive namespace from numpy and matplotlib\n"
       ]
      },
      {
       "output_type": "stream",
       "stream": "stderr",
       "text": [
        "WARNING: pylab import has clobbered these variables: ['fft']\n",
        "`%pylab --no-import-all` prevents importing * from pylab and numpy\n"
       ]
      }
     ],
     "prompt_number": 3
    },
    {
     "cell_type": "heading",
     "level": 3,
     "metadata": {},
     "source": [
      "Importaci\u00f3n de los datos"
     ]
    },
    {
     "cell_type": "code",
     "collapsed": false,
     "input": [
      "#Traemos los datos y los convertimos en arrays, los cuales son mas faciles de manipular\n",
      "\n",
      "data = pd.read_csv('RR_Lyrae_template.dat', sep = '\\t')\n",
      "data = data.dropna()\n",
      "data = np.array(data)\n",
      "\n",
      "print data"
     ],
     "language": "python",
     "metadata": {},
     "outputs": [
      {
       "output_type": "stream",
       "stream": "stdout",
       "text": [
        "[[  0.00000000e+00   4.00240000e+00]\n",
        " [  2.00000000e-03   4.00240000e+00]\n",
        " [  4.00000000e-03   4.00720000e+00]\n",
        " ..., \n",
        " [  3.99400000e+00   4.00480000e+00]\n",
        " [  3.99600000e+00   4.00240000e+00]\n",
        " [  3.99800000e+00   4.00000000e+00]]\n"
       ]
      }
     ],
     "prompt_number": 9
    },
    {
     "cell_type": "code",
     "collapsed": false,
     "input": [],
     "language": "python",
     "metadata": {},
     "outputs": []
    }
   ],
   "metadata": {}
  }
 ]
}